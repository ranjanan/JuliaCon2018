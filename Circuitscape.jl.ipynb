{
 "cells": [
  {
   "cell_type": "markdown",
   "metadata": {
    "slideshow": {
     "slide_type": "slide"
    }
   },
   "source": [
    "# Circuitscape - A Package for Landscape Ecology \n",
    "\n",
    "<h1>OR</h1>\n",
    "\n",
    "# Writing an end-to-end Application in Julia \n",
    "\n",
    "## Ranjan Anantharaman\n",
    "\n",
    "<img src=\"images/julia-computing.svg\"/>"
   ]
  },
  {
   "cell_type": "markdown",
   "metadata": {
    "slideshow": {
     "slide_type": "slide"
    }
   },
   "source": [
    "## What is Circuitscape?\n",
    "\n",
    "<img src=\"files/images/circ_logo.png\" style=\"height: 50px; weight: 200px;\"/>\n",
    "\n"
   ]
  },
  {
   "cell_type": "markdown",
   "metadata": {
    "slideshow": {
     "slide_type": "fragment"
    }
   },
   "source": [
    "Circuitscape is a tool for landscape ecology that borrows algorithms from electronic circuit theory to predict connectivity in heterogeneous landscapes. \n",
    "\n",
    "1. McRae, Brad H. \"Isolation by resistance.\" Evolution 60.8 (2006): 1551-1561. ~ ***690 citations.***\n",
    "2. McRae, Brad H., et al. \"Using circuit theory to model connectivity in ecology, evolution, and conservation.\" Ecology 89.10 (2008): 2712-2724. ~ ***784 citations ***\n",
    "\n"
   ]
  },
  {
   "cell_type": "markdown",
   "metadata": {
    "slideshow": {
     "slide_type": "subslide"
    }
   },
   "source": [
    "<img src=\"files/images/circ.png\">\n",
    "\n",
    "* A - core areas \n",
    "* B - identify linkages across the landscape that link core areas\n",
    "* C - Simulate current flow across landscape"
   ]
  },
  {
   "cell_type": "markdown",
   "metadata": {
    "slideshow": {
     "slide_type": "subslide"
    }
   },
   "source": [
    "## Circuitscape Applications: \n",
    "\n"
   ]
  },
  {
   "cell_type": "markdown",
   "metadata": {
    "slideshow": {
     "slide_type": "fragment"
    }
   },
   "source": [
    "* **Wildlife corridor design**: connectivity analyses using Circuitscape are being used in planning exercises affecting tens of millions of dollars for land acquisition, restoration, and management, and to set conservation priorities.  \n"
   ]
  },
  {
   "cell_type": "markdown",
   "metadata": {
    "slideshow": {
     "slide_type": "fragment"
    }
   },
   "source": [
    "* **Landscape genetics**: How landscape pattern (the distribution of suitable habitat, barriers, etc.) affects gene flow and genetic differentiation among plant and animal populations\n"
   ]
  },
  {
   "cell_type": "markdown",
   "metadata": {
    "slideshow": {
     "slide_type": "fragment"
    }
   },
   "source": [
    "* **Movement ecology**: Circuit theory can also be used to predict movements of animals and how these affect overall population connectivity. \n"
   ]
  },
  {
   "cell_type": "markdown",
   "metadata": {
    "slideshow": {
     "slide_type": "fragment"
    }
   },
   "source": [
    "* **Connectivity for climate change**: \n",
    "    - Many species and populations will need to move even faster than in the past or face extinction.\n",
    "    - Many species are already moving in response to rapid warming, but they are encountering barriers—like roads, agricultural areas, and cities—that weren’t present in the past. \n",
    "    - In order for species to maintain population connectivity and the ability to adapt to climate change, we need to identify and conserve important movement routes.\n"
   ]
  },
  {
   "cell_type": "markdown",
   "metadata": {
    "slideshow": {
     "slide_type": "subslide"
    }
   },
   "source": [
    "## Mapping Connectivity for Tigers in India \n",
    "\n",
    "\n",
    "<img src=\"files/images/tiger.png\" style=\"width: 500px height: 500px\"/>"
   ]
  },
  {
   "cell_type": "markdown",
   "metadata": {
    "slideshow": {
     "slide_type": "subslide"
    }
   },
   "source": [
    "## Mapping Connectivity for Tigers in India \n",
    "\n",
    "<img src=\"files/images/tigerland.png\" style=\"height: 500px; weight: 500px\">\n",
    "\n",
    "\n",
    "**Source**: Dutta et al, *Connecting the dots: mapping habitat connectivity for tiger in central India*, Springer-Verlag Berling Heidelberg 2015"
   ]
  },
  {
   "cell_type": "markdown",
   "metadata": {
    "slideshow": {
     "slide_type": "subslide"
    }
   },
   "source": [
    "## Mapping Connectivity for Tigers in India \n",
    "\n",
    "\n",
    "<img src=\"files/images/tigerflow.png\" style=\"height: 500px; width: 550px\"/>\n",
    "\n",
    "**Source**: Dutta et al, *Connecting the dots: mapping habitat connectivity for tiger in central India*, Springer-Verlag Berling Heidelberg 2015"
   ]
  },
  {
   "cell_type": "markdown",
   "metadata": {
    "slideshow": {
     "slide_type": "subslide"
    }
   },
   "source": [
    "## Connectivity under Climate Change\n",
    "\n"
   ]
  },
  {
   "cell_type": "markdown",
   "metadata": {
    "slideshow": {
     "slide_type": "fragment"
    }
   },
   "source": [
    "http://maps.tnc.org/migrations-in-motion/#4/47.55/-110.74"
   ]
  },
  {
   "cell_type": "markdown",
   "metadata": {
    "slideshow": {
     "slide_type": "subslide"
    }
   },
   "source": [
    "## Large Fire Probability  in the Sonoran Desert (2005) \n",
    "\n",
    "- Red = higher probability \n",
    "- Green = lower probability\n",
    "<img src=\"files/images/fireprob.png\" style=\"height: 500px; weight: 500px\"/>\n",
    "\n",
    "**Source**: Gray ME, Dickson BG, Zachmann LJ (2014) Modeling and mapping dynamic variability in large fire probability in the lower Sonoran Desert of south-western Arizona. Int J of Wildland Fire.\n"
   ]
  },
  {
   "cell_type": "markdown",
   "metadata": {
    "slideshow": {
     "slide_type": "subslide"
    }
   },
   "source": [
    "## Large Fire Probability  in the Sonoran Desert (2005) \n",
    "\n",
    "\n",
    "<img src=\"files/images/firecurrent.png\" style=\"height: 500px; weight: 500px\"/>\n",
    "\n",
    "**Source**: Gray ME, Dickson BG, Zachmann LJ (2014) Modeling and mapping dynamic variability in large fire probability in the lower Sonoran Desert of south-western Arizona. Int J of Wildland Fire.\n"
   ]
  },
  {
   "cell_type": "markdown",
   "metadata": {
    "slideshow": {
     "slide_type": "slide"
    }
   },
   "source": [
    "## The Package\n",
    "\n",
    "* Abstracts the landscape as a large grid, where the value of each grid cell represents \"resistance\" to animal movement.\n"
   ]
  },
  {
   "cell_type": "markdown",
   "metadata": {
    "slideshow": {
     "slide_type": "fragment"
    }
   },
   "source": [
    "* Constructs a graph from a raster grid of the underlying landscape\n",
    "\n"
   ]
  },
  {
   "cell_type": "markdown",
   "metadata": {
    "slideshow": {
     "slide_type": "fragment"
    }
   },
   "source": [
    "* Builds a sparse laplacian system "
   ]
  },
  {
   "cell_type": "markdown",
   "metadata": {
    "slideshow": {
     "slide_type": "fragment"
    }
   },
   "source": [
    "* Solves it using \n",
    "    - Conjugate Gradients preconditioned with an Algebraic Multigrid Preconditioner (`AlgebraicMultigrid.jl`)\n",
    "    - Cholesky decomposition (`CHOLMOD`)"
   ]
  },
  {
   "cell_type": "markdown",
   "metadata": {
    "slideshow": {
     "slide_type": "fragment"
    }
   },
   "source": [
    "* Writes current maps\n",
    "    - How much current (animal movement) is likely to occur in each input cell?"
   ]
  },
  {
   "cell_type": "markdown",
   "metadata": {
    "slideshow": {
     "slide_type": "subslide"
    }
   },
   "source": [
    "## New Features: \n",
    "* Faster and More Scalable \n",
    "    - upto 8x faster than the previous version (with default solver)\n",
    "\n",
    "* New solver mode – CHOLMOD\n",
    "    - Performs cholesky decomposition on the underlying graph\n",
    "\n",
    "* Parallelism on Windows (and Linux and MacOS) \n",
    "    - Earlier version didn’t support parallelism on Windows\n",
    "\n",
    "* Single precision support (experimental)\n"
   ]
  },
  {
   "cell_type": "markdown",
   "metadata": {
    "slideshow": {
     "slide_type": "subslide"
    }
   },
   "source": [
    "## Upgrade from Python (version 4) to Julia (version 5)\n",
    "\n",
    "<img src=\"images/chart.png\" style=\"height: 500px; width: 800px\">"
   ]
  },
  {
   "cell_type": "markdown",
   "metadata": {
    "slideshow": {
     "slide_type": "subslide"
    }
   },
   "source": [
    "**Versions**: Circuitscape v4.0.5 (Python) \n",
    "                    vs Circuitscape.jl v0.1.0, AMG.jl v0.1.2\n",
    "\n",
    "**Benchmarks**: https:github.com/Circuitscape/BigTests\n",
    "\n",
    "**Hardware**: Intel(R) Xeon(R) Silver 4114 CPU 2.20 GHz, 384 GB RAM"
   ]
  },
  {
   "cell_type": "markdown",
   "metadata": {
    "slideshow": {
     "slide_type": "subslide"
    }
   },
   "source": [
    "## User Feedback\n",
    "\n",
    "“Even in CG+AMG solver mode, this problem takes only **~35 hours in Julia** compared to **8 days with original Circuitscape (in Python)**”. \n",
    "\n",
    "\"The CHOLMOD solver mode is **a full order of magnitude faster** than the original Circuitscape, which took at least 8 days to run.\"  - Dr. Megan Jennings, San Diego State University. \n"
   ]
  },
  {
   "cell_type": "markdown",
   "metadata": {
    "slideshow": {
     "slide_type": "fragment"
    }
   },
   "source": [
    "“**In python, the problem took 36 minutes** but in **Julia this problem solved in under 3 minutes**.” – Miranda Gray, Conservation Science Partners.\n"
   ]
  },
  {
   "cell_type": "markdown",
   "metadata": {
    "slideshow": {
     "slide_type": "fragment"
    }
   },
   "source": [
    "### Largest problem solved : \n",
    "437 million nodes \n",
    "\n",
    "* Circuitscape 4.0 (Python) crashed \n",
    "* Circuitscape 5.0 (Julia) ran in 3.38 hours\n"
   ]
  },
  {
   "cell_type": "markdown",
   "metadata": {
    "slideshow": {
     "slide_type": "slide"
    }
   },
   "source": [
    "## From Package ....\n"
   ]
  },
  {
   "cell_type": "code",
   "execution_count": 1,
   "metadata": {
    "slideshow": {
     "slide_type": "subslide"
    }
   },
   "outputs": [],
   "source": [
    "using Circuitscape: compute_silent\n",
    "cd(joinpath(Pkg.dir(\"Circuitscape\"), \"test\")) # cd into test directory"
   ]
  },
  {
   "cell_type": "code",
   "execution_count": 2,
   "metadata": {
    "slideshow": {
     "slide_type": "fragment"
    }
   },
   "outputs": [
    {
     "data": {
      "text/plain": [
       "6×6 Array{Float64,2}:\n",
       " 0.0   1.0   2.0   3.0   4.0    7.0\n",
       " 1.0   0.0   1.0   1.0   0.75  -1.0\n",
       " 2.0   1.0   0.0   3.0   4.0    1.4\n",
       " 3.0   1.0   3.0   0.0   1.0   -1.0\n",
       " 4.0   0.75  4.0   1.0   0.0   -1.0\n",
       " 7.0  -1.0   1.4  -1.0  -1.0    0.0"
      ]
     },
     "execution_count": 2,
     "metadata": {},
     "output_type": "execute_result"
    }
   ],
   "source": [
    "compute_silent(\"input/raster/pairwise/6/sgVerify6.ini\") # run a test"
   ]
  },
  {
   "cell_type": "markdown",
   "metadata": {
    "slideshow": {
     "slide_type": "subslide"
    }
   },
   "source": [
    "## To Packaged Application\n",
    "\n",
    "<img src=\"images/circuitscape.png\" style=\"height: 500px; width: 800px\"/>"
   ]
  },
  {
   "cell_type": "markdown",
   "metadata": {
    "slideshow": {
     "slide_type": "subslide"
    }
   },
   "source": [
    "## I have a great Julia package - now what?\n"
   ]
  },
  {
   "cell_type": "markdown",
   "metadata": {
    "slideshow": {
     "slide_type": "subslide"
    }
   },
   "source": [
    "## Pure Julia, from the lowest to the highest level\n",
    "\n",
    "* Solvers are in pure Julia\n",
    "    - `AlgebraicMultigrid.jl`\n",
    "* The package is in pure Julia\n",
    "* The UI is in pure Julia \n",
    "    - `Blink.jl`\n",
    "    - `InteractBulma.jl`\n",
    "    - `WebIO.jl`\n",
    "    - `AssetRegistry.jl`\n",
    "* The packaging and shipping is in pure Julia \n",
    "    - `PackageCompiler.jl` \n",
    "    - `ApplicationBuilder.jl`"
   ]
  },
  {
   "cell_type": "markdown",
   "metadata": {
    "slideshow": {
     "slide_type": "subslide"
    }
   },
   "source": [
    "## Step 1: Building a UI \n",
    "\n",
    "Need to decide:\n",
    "- Platform\n",
    "- UI components and layout  \n",
    "- Behaviour "
   ]
  },
  {
   "cell_type": "markdown",
   "metadata": {
    "slideshow": {
     "slide_type": "subslide"
    }
   },
   "source": [
    "## Platform: `Blink.jl`\n",
    "\n",
    "Julia interface to Electron.\n",
    "#### Advantages: \n"
   ]
  },
  {
   "cell_type": "markdown",
   "metadata": {
    "slideshow": {
     "slide_type": "fragment"
    }
   },
   "source": [
    "- Works on all platforms: Windows, Mac and Linux "
   ]
  },
  {
   "cell_type": "markdown",
   "metadata": {
    "slideshow": {
     "slide_type": "fragment"
    }
   },
   "source": [
    "- Can access the filesystem as opposed to web browsers that can't because of security problems"
   ]
  },
  {
   "cell_type": "markdown",
   "metadata": {
    "slideshow": {
     "slide_type": "fragment"
    }
   },
   "source": [
    "#### Disadvantages: "
   ]
  },
  {
   "cell_type": "markdown",
   "metadata": {
    "slideshow": {
     "slide_type": "fragment"
    }
   },
   "source": [
    "- Can hog up system resources \n"
   ]
  },
  {
   "cell_type": "markdown",
   "metadata": {
    "slideshow": {
     "slide_type": "subslide"
    }
   },
   "source": [
    "## Build a GUI\n",
    "\n",
    "- `InteractBulma.jl` gives you widgets\n",
    "- `CSSUtil.jl` helps you arrange them\n",
    "- `WebIO.jl` stitches everything together\n"
   ]
  },
  {
   "cell_type": "markdown",
   "metadata": {
    "slideshow": {
     "slide_type": "fragment"
    }
   },
   "source": [
    "## Contol its behviour\n",
    "- `Observables.jl`  contol their behaviour"
   ]
  },
  {
   "cell_type": "code",
   "execution_count": 10,
   "metadata": {
    "slideshow": {
     "slide_type": "subslide"
    }
   },
   "outputs": [],
   "source": [
    "using InteractBulma\n",
    "using WebIO\n",
    "using CSSUtil\n",
    "using Observables"
   ]
  },
  {
   "cell_type": "code",
   "execution_count": 12,
   "metadata": {
    "slideshow": {
     "slide_type": "subslide"
    }
   },
   "outputs": [
    {
     "data": {
      "text/html": [
       "<div class='display:none'></div><unsafe-script style='display:none'>\n",
       "WebIO.mount(this.previousSibling,{&quot;props&quot;:{&quot;style&quot;:{&quot;display&quot;:&quot;flex&quot;,&quot;flex-direction&quot;:&quot;column&quot;}},&quot;nodeType&quot;:&quot;DOM&quot;,&quot;type&quot;:&quot;node&quot;,&quot;instanceArgs&quot;:{&quot;namespace&quot;:&quot;html&quot;,&quot;tag&quot;:&quot;div&quot;},&quot;children&quot;:[{&quot;props&quot;:{},&quot;nodeType&quot;:&quot;DOM&quot;,&quot;type&quot;:&quot;node&quot;,&quot;instanceArgs&quot;:{&quot;namespace&quot;:&quot;html&quot;,&quot;tag&quot;:&quot;h1&quot;},&quot;children&quot;:[&quot;Hello.&quot;]},{&quot;props&quot;:{},&quot;nodeType&quot;:&quot;DOM&quot;,&quot;type&quot;:&quot;node&quot;,&quot;instanceArgs&quot;:{&quot;namespace&quot;:&quot;html&quot;,&quot;tag&quot;:&quot;p&quot;},&quot;children&quot;:[&quot;Welcome to Customer Care. Please leave your details here so we can get back to you.&quot;]},{&quot;props&quot;:{&quot;style&quot;:{&quot;height&quot;:&quot;1.0em&quot;,&quot;width&quot;:&quot;0.0px&quot;}},&quot;nodeType&quot;:&quot;DOM&quot;,&quot;type&quot;:&quot;node&quot;,&quot;instanceArgs&quot;:{&quot;namespace&quot;:&quot;html&quot;,&quot;tag&quot;:&quot;div&quot;},&quot;children&quot;:[]},{&quot;props&quot;:{&quot;style&quot;:{&quot;display&quot;:&quot;flex&quot;,&quot;flex-direction&quot;:&quot;row&quot;}},&quot;nodeType&quot;:&quot;DOM&quot;,&quot;type&quot;:&quot;node&quot;,&quot;instanceArgs&quot;:{&quot;namespace&quot;:&quot;html&quot;,&quot;tag&quot;:&quot;div&quot;},&quot;children&quot;:[{&quot;props&quot;:{},&quot;nodeType&quot;:&quot;DOM&quot;,&quot;type&quot;:&quot;node&quot;,&quot;instanceArgs&quot;:{&quot;namespace&quot;:&quot;html&quot;,&quot;tag&quot;:&quot;div&quot;},&quot;children&quot;:[&quot;Your name:&quot;]},{&quot;props&quot;:{&quot;style&quot;:{&quot;height&quot;:&quot;0.0px&quot;,&quot;width&quot;:&quot;1.0em&quot;}},&quot;nodeType&quot;:&quot;DOM&quot;,&quot;type&quot;:&quot;node&quot;,&quot;instanceArgs&quot;:{&quot;namespace&quot;:&quot;html&quot;,&quot;tag&quot;:&quot;div&quot;},&quot;children&quot;:[]},{&quot;props&quot;:{&quot;className&quot;:&quot;field&quot;},&quot;nodeType&quot;:&quot;DOM&quot;,&quot;type&quot;:&quot;node&quot;,&quot;instanceArgs&quot;:{&quot;namespace&quot;:&quot;html&quot;,&quot;tag&quot;:&quot;div&quot;},&quot;children&quot;:[{&quot;props&quot;:{},&quot;nodeType&quot;:&quot;Scope&quot;,&quot;type&quot;:&quot;node&quot;,&quot;instanceArgs&quot;:{&quot;imports&quot;:{&quot;data&quot;:[{&quot;name&quot;:&quot;knockout&quot;,&quot;type&quot;:&quot;js&quot;,&quot;url&quot;:&quot;/assetserver/7225f499e03bd02a97bd22cb165698a7d29b9ee2-knockout.js&quot;},{&quot;name&quot;:&quot;knockout_punches&quot;,&quot;type&quot;:&quot;js&quot;,&quot;url&quot;:&quot;/assetserver/108ae0433fcf29d94e2963f73d09fa76a5b34ec8-knockout_punches.js&quot;},{&quot;name&quot;:null,&quot;type&quot;:&quot;js&quot;,&quot;url&quot;:&quot;/assetserver/4d26c64b15db70e3ccde4abdd4d548254480cc2f-all.js&quot;},{&quot;name&quot;:null,&quot;type&quot;:&quot;css&quot;,&quot;url&quot;:&quot;/assetserver/a77525ebe685c2878914dad2da9b085590f203ae-main.css&quot;}],&quot;type&quot;:&quot;async_block&quot;},&quot;id&quot;:&quot;knockout-component-e00eea6f-e05f-4edf-98c8-c1c71f7a3976&quot;,&quot;handlers&quot;:{&quot;_promises&quot;:{&quot;importsLoaded&quot;:[function (ko, koPunches) {\n",
       "    ko.punches.enableAll();\n",
       "    ko.bindingHandlers.numericValue = {\n",
       "        init : function(element, valueAccessor, allBindings, data, context) {\n",
       "            var stringified = ko.observable(ko.unwrap(valueAccessor()));\n",
       "            stringified.subscribe(function(value) {\n",
       "                var val = parseFloat(value);\n",
       "                if (!isNaN(val)) {\n",
       "                    valueAccessor()(val);\n",
       "                }\n",
       "            })\n",
       "            valueAccessor().subscribe(function(value) {\n",
       "                var str = JSON.stringify(value);\n",
       "                if ((str == &quot;0&quot;) &amp;&amp; ([&quot;-0&quot;, &quot;-0.&quot;].indexOf(stringified()) &gt;= 0))\n",
       "                     return;\n",
       "                 if ([&quot;null&quot;, &quot;&quot;].indexOf(str) &gt;= 0)\n",
       "                     return;\n",
       "                stringified(str);\n",
       "            })\n",
       "            ko.applyBindingsToNode(element, { value: stringified, valueUpdate: allBindings.get(&#39;valueUpdate&#39;)}, context);\n",
       "        }\n",
       "    };\n",
       "    var json_data = JSON.parse(&quot;{\\&quot;changes\\&quot;:0,\\&quot;value\\&quot;:\\&quot;Name\\&quot;}&quot;);\n",
       "    var self = this;\n",
       "    function AppViewModel() {\n",
       "        for (var key in json_data) {\n",
       "            var el = json_data[key];\n",
       "            this[key] = Array.isArray(el) ? ko.observableArray(el) : ko.observable(el);\n",
       "        }\n",
       "        \n",
       "        [this[&quot;displayedvalue&quot;]=ko.computed(function (){return this.value();},this)]\n",
       "        [this[&quot;changes&quot;].subscribe((function (val){!(this.valueFromJulia[&quot;changes&quot;]) ? (WebIO.setval({&quot;name&quot;:&quot;changes&quot;,&quot;scope&quot;:&quot;knockout-component-e00eea6f-e05f-4edf-98c8-c1c71f7a3976&quot;,&quot;id&quot;:&quot;ob_39&quot;,&quot;type&quot;:&quot;observable&quot;},val)) : undefined; return this.valueFromJulia[&quot;changes&quot;]=false}),self),this[&quot;value&quot;].subscribe((function (val){!(this.valueFromJulia[&quot;value&quot;]) ? (WebIO.setval({&quot;name&quot;:&quot;value&quot;,&quot;scope&quot;:&quot;knockout-component-e00eea6f-e05f-4edf-98c8-c1c71f7a3976&quot;,&quot;id&quot;:&quot;ob_37&quot;,&quot;type&quot;:&quot;observable&quot;},val)) : undefined; return this.valueFromJulia[&quot;value&quot;]=false}),self)]\n",
       "        \n",
       "    }\n",
       "    self.model = new AppViewModel();\n",
       "    self.valueFromJulia = {};\n",
       "    for (var key in json_data) {\n",
       "        self.valueFromJulia[key] = false;\n",
       "    }\n",
       "    ko.applyBindings(self.model, self.dom);\n",
       "}\n",
       "]},&quot;changes&quot;:[(function (val){return (val!=this.model[&quot;changes&quot;]()) ? (this.valueFromJulia[&quot;changes&quot;]=true, this.model[&quot;changes&quot;](val)) : undefined})],&quot;value&quot;:[(function (val){return (val!=this.model[&quot;value&quot;]()) ? (this.valueFromJulia[&quot;value&quot;]=true, this.model[&quot;value&quot;](val)) : undefined})]},&quot;systemjs_options&quot;:null,&quot;observables&quot;:{&quot;changes&quot;:{&quot;sync&quot;:false,&quot;id&quot;:&quot;ob_39&quot;,&quot;value&quot;:0},&quot;value&quot;:{&quot;sync&quot;:false,&quot;id&quot;:&quot;ob_37&quot;,&quot;value&quot;:&quot;Name&quot;}}},&quot;children&quot;:[{&quot;props&quot;:{&quot;attributes&quot;:{&quot;type&quot;:&quot;text&quot;,&quot;data-bind&quot;:&quot;value: value, valueUpdate: &#39;input&#39;, event: {change : function () {this.changes(this.changes()+1)}}&quot;},&quot;placeholder&quot;:&quot;&quot;,&quot;className&quot;:&quot;input &quot;,&quot;style&quot;:{}},&quot;nodeType&quot;:&quot;DOM&quot;,&quot;type&quot;:&quot;node&quot;,&quot;instanceArgs&quot;:{&quot;namespace&quot;:&quot;html&quot;,&quot;tag&quot;:&quot;input&quot;},&quot;children&quot;:[]}]}]}]},{&quot;props&quot;:{&quot;style&quot;:{&quot;height&quot;:&quot;1.0em&quot;,&quot;width&quot;:&quot;0.0px&quot;}},&quot;nodeType&quot;:&quot;DOM&quot;,&quot;type&quot;:&quot;node&quot;,&quot;instanceArgs&quot;:{&quot;namespace&quot;:&quot;html&quot;,&quot;tag&quot;:&quot;div&quot;},&quot;children&quot;:[]},{&quot;props&quot;:{&quot;style&quot;:{&quot;display&quot;:&quot;flex&quot;,&quot;flex-direction&quot;:&quot;row&quot;}},&quot;nodeType&quot;:&quot;DOM&quot;,&quot;type&quot;:&quot;node&quot;,&quot;instanceArgs&quot;:{&quot;namespace&quot;:&quot;html&quot;,&quot;tag&quot;:&quot;div&quot;},&quot;children&quot;:[{&quot;props&quot;:{},&quot;nodeType&quot;:&quot;DOM&quot;,&quot;type&quot;:&quot;node&quot;,&quot;instanceArgs&quot;:{&quot;namespace&quot;:&quot;html&quot;,&quot;tag&quot;:&quot;div&quot;},&quot;children&quot;:[&quot;Your phone number:&quot;]},{&quot;props&quot;:{&quot;style&quot;:{&quot;height&quot;:&quot;0.0px&quot;,&quot;width&quot;:&quot;1.0em&quot;}},&quot;nodeType&quot;:&quot;DOM&quot;,&quot;type&quot;:&quot;node&quot;,&quot;instanceArgs&quot;:{&quot;namespace&quot;:&quot;html&quot;,&quot;tag&quot;:&quot;div&quot;},&quot;children&quot;:[]},{&quot;props&quot;:{&quot;className&quot;:&quot;field&quot;},&quot;nodeType&quot;:&quot;DOM&quot;,&quot;type&quot;:&quot;node&quot;,&quot;instanceArgs&quot;:{&quot;namespace&quot;:&quot;html&quot;,&quot;tag&quot;:&quot;div&quot;},&quot;children&quot;:[{&quot;props&quot;:{},&quot;nodeType&quot;:&quot;Scope&quot;,&quot;type&quot;:&quot;node&quot;,&quot;instanceArgs&quot;:{&quot;imports&quot;:{&quot;data&quot;:[{&quot;name&quot;:&quot;knockout&quot;,&quot;type&quot;:&quot;js&quot;,&quot;url&quot;:&quot;/assetserver/7225f499e03bd02a97bd22cb165698a7d29b9ee2-knockout.js&quot;},{&quot;name&quot;:&quot;knockout_punches&quot;,&quot;type&quot;:&quot;js&quot;,&quot;url&quot;:&quot;/assetserver/108ae0433fcf29d94e2963f73d09fa76a5b34ec8-knockout_punches.js&quot;},{&quot;name&quot;:null,&quot;type&quot;:&quot;js&quot;,&quot;url&quot;:&quot;/assetserver/4d26c64b15db70e3ccde4abdd4d548254480cc2f-all.js&quot;},{&quot;name&quot;:null,&quot;type&quot;:&quot;css&quot;,&quot;url&quot;:&quot;/assetserver/a77525ebe685c2878914dad2da9b085590f203ae-main.css&quot;}],&quot;type&quot;:&quot;async_block&quot;},&quot;id&quot;:&quot;knockout-component-2155937f-c955-4d01-9d91-51584fccd87d&quot;,&quot;handlers&quot;:{&quot;_promises&quot;:{&quot;importsLoaded&quot;:[function (ko, koPunches) {\n",
       "    ko.punches.enableAll();\n",
       "    ko.bindingHandlers.numericValue = {\n",
       "        init : function(element, valueAccessor, allBindings, data, context) {\n",
       "            var stringified = ko.observable(ko.unwrap(valueAccessor()));\n",
       "            stringified.subscribe(function(value) {\n",
       "                var val = parseFloat(value);\n",
       "                if (!isNaN(val)) {\n",
       "                    valueAccessor()(val);\n",
       "                }\n",
       "            })\n",
       "            valueAccessor().subscribe(function(value) {\n",
       "                var str = JSON.stringify(value);\n",
       "                if ((str == &quot;0&quot;) &amp;&amp; ([&quot;-0&quot;, &quot;-0.&quot;].indexOf(stringified()) &gt;= 0))\n",
       "                     return;\n",
       "                 if ([&quot;null&quot;, &quot;&quot;].indexOf(str) &gt;= 0)\n",
       "                     return;\n",
       "                stringified(str);\n",
       "            })\n",
       "            ko.applyBindingsToNode(element, { value: stringified, valueUpdate: allBindings.get(&#39;valueUpdate&#39;)}, context);\n",
       "        }\n",
       "    };\n",
       "    var json_data = JSON.parse(&quot;{\\&quot;changes\\&quot;:0,\\&quot;value\\&quot;:\\&quot;xxxx\\&quot;}&quot;);\n",
       "    var self = this;\n",
       "    function AppViewModel() {\n",
       "        for (var key in json_data) {\n",
       "            var el = json_data[key];\n",
       "            this[key] = Array.isArray(el) ? ko.observableArray(el) : ko.observable(el);\n",
       "        }\n",
       "        \n",
       "        [this[&quot;displayedvalue&quot;]=ko.computed(function (){return this.value();},this)]\n",
       "        [this[&quot;changes&quot;].subscribe((function (val){!(this.valueFromJulia[&quot;changes&quot;]) ? (WebIO.setval({&quot;name&quot;:&quot;changes&quot;,&quot;scope&quot;:&quot;knockout-component-2155937f-c955-4d01-9d91-51584fccd87d&quot;,&quot;id&quot;:&quot;ob_43&quot;,&quot;type&quot;:&quot;observable&quot;},val)) : undefined; return this.valueFromJulia[&quot;changes&quot;]=false}),self),this[&quot;value&quot;].subscribe((function (val){!(this.valueFromJulia[&quot;value&quot;]) ? (WebIO.setval({&quot;name&quot;:&quot;value&quot;,&quot;scope&quot;:&quot;knockout-component-2155937f-c955-4d01-9d91-51584fccd87d&quot;,&quot;id&quot;:&quot;ob_38&quot;,&quot;type&quot;:&quot;observable&quot;},val)) : undefined; return this.valueFromJulia[&quot;value&quot;]=false}),self)]\n",
       "        \n",
       "    }\n",
       "    self.model = new AppViewModel();\n",
       "    self.valueFromJulia = {};\n",
       "    for (var key in json_data) {\n",
       "        self.valueFromJulia[key] = false;\n",
       "    }\n",
       "    ko.applyBindings(self.model, self.dom);\n",
       "}\n",
       "]},&quot;changes&quot;:[(function (val){return (val!=this.model[&quot;changes&quot;]()) ? (this.valueFromJulia[&quot;changes&quot;]=true, this.model[&quot;changes&quot;](val)) : undefined})],&quot;value&quot;:[(function (val){return (val!=this.model[&quot;value&quot;]()) ? (this.valueFromJulia[&quot;value&quot;]=true, this.model[&quot;value&quot;](val)) : undefined})]},&quot;systemjs_options&quot;:null,&quot;observables&quot;:{&quot;changes&quot;:{&quot;sync&quot;:false,&quot;id&quot;:&quot;ob_43&quot;,&quot;value&quot;:0},&quot;value&quot;:{&quot;sync&quot;:false,&quot;id&quot;:&quot;ob_38&quot;,&quot;value&quot;:&quot;xxxx&quot;}}},&quot;children&quot;:[{&quot;props&quot;:{&quot;attributes&quot;:{&quot;type&quot;:&quot;text&quot;,&quot;data-bind&quot;:&quot;value: value, valueUpdate: &#39;input&#39;, event: {change : function () {this.changes(this.changes()+1)}}&quot;},&quot;placeholder&quot;:&quot;&quot;,&quot;className&quot;:&quot;input &quot;,&quot;style&quot;:{}},&quot;nodeType&quot;:&quot;DOM&quot;,&quot;type&quot;:&quot;node&quot;,&quot;instanceArgs&quot;:{&quot;namespace&quot;:&quot;html&quot;,&quot;tag&quot;:&quot;input&quot;},&quot;children&quot;:[]}]}]}]},{&quot;props&quot;:{&quot;style&quot;:{&quot;height&quot;:&quot;1.0em&quot;,&quot;width&quot;:&quot;0.0px&quot;}},&quot;nodeType&quot;:&quot;DOM&quot;,&quot;type&quot;:&quot;node&quot;,&quot;instanceArgs&quot;:{&quot;namespace&quot;:&quot;html&quot;,&quot;tag&quot;:&quot;div&quot;},&quot;children&quot;:[]},{&quot;props&quot;:{&quot;className&quot;:&quot;field&quot;},&quot;nodeType&quot;:&quot;DOM&quot;,&quot;type&quot;:&quot;node&quot;,&quot;instanceArgs&quot;:{&quot;namespace&quot;:&quot;html&quot;,&quot;tag&quot;:&quot;div&quot;},&quot;children&quot;:[{&quot;props&quot;:{},&quot;nodeType&quot;:&quot;Scope&quot;,&quot;type&quot;:&quot;node&quot;,&quot;instanceArgs&quot;:{&quot;imports&quot;:{&quot;data&quot;:[{&quot;name&quot;:&quot;knockout&quot;,&quot;type&quot;:&quot;js&quot;,&quot;url&quot;:&quot;/assetserver/7225f499e03bd02a97bd22cb165698a7d29b9ee2-knockout.js&quot;},{&quot;name&quot;:&quot;knockout_punches&quot;,&quot;type&quot;:&quot;js&quot;,&quot;url&quot;:&quot;/assetserver/108ae0433fcf29d94e2963f73d09fa76a5b34ec8-knockout_punches.js&quot;},{&quot;name&quot;:null,&quot;type&quot;:&quot;js&quot;,&quot;url&quot;:&quot;/assetserver/4d26c64b15db70e3ccde4abdd4d548254480cc2f-all.js&quot;},{&quot;name&quot;:null,&quot;type&quot;:&quot;css&quot;,&quot;url&quot;:&quot;/assetserver/a77525ebe685c2878914dad2da9b085590f203ae-main.css&quot;}],&quot;type&quot;:&quot;async_block&quot;},&quot;id&quot;:&quot;knockout-component-be53e266-5201-4b1e-ba3c-a3d7bd76a79e&quot;,&quot;handlers&quot;:{&quot;_promises&quot;:{&quot;importsLoaded&quot;:[function (ko, koPunches) {\n",
       "    ko.punches.enableAll();\n",
       "    ko.bindingHandlers.numericValue = {\n",
       "        init : function(element, valueAccessor, allBindings, data, context) {\n",
       "            var stringified = ko.observable(ko.unwrap(valueAccessor()));\n",
       "            stringified.subscribe(function(value) {\n",
       "                var val = parseFloat(value);\n",
       "                if (!isNaN(val)) {\n",
       "                    valueAccessor()(val);\n",
       "                }\n",
       "            })\n",
       "            valueAccessor().subscribe(function(value) {\n",
       "                var str = JSON.stringify(value);\n",
       "                if ((str == &quot;0&quot;) &amp;&amp; ([&quot;-0&quot;, &quot;-0.&quot;].indexOf(stringified()) &gt;= 0))\n",
       "                     return;\n",
       "                 if ([&quot;null&quot;, &quot;&quot;].indexOf(str) &gt;= 0)\n",
       "                     return;\n",
       "                stringified(str);\n",
       "            })\n",
       "            ko.applyBindingsToNode(element, { value: stringified, valueUpdate: allBindings.get(&#39;valueUpdate&#39;)}, context);\n",
       "        }\n",
       "    };\n",
       "    var json_data = JSON.parse(&quot;{\\&quot;clicks\\&quot;:0}&quot;);\n",
       "    var self = this;\n",
       "    function AppViewModel() {\n",
       "        for (var key in json_data) {\n",
       "            var el = json_data[key];\n",
       "            this[key] = Array.isArray(el) ? ko.observableArray(el) : ko.observable(el);\n",
       "        }\n",
       "        \n",
       "        \n",
       "        [this[&quot;clicks&quot;].subscribe((function (val){!(this.valueFromJulia[&quot;clicks&quot;]) ? (WebIO.setval({&quot;name&quot;:&quot;clicks&quot;,&quot;scope&quot;:&quot;knockout-component-be53e266-5201-4b1e-ba3c-a3d7bd76a79e&quot;,&quot;id&quot;:&quot;ob_47&quot;,&quot;type&quot;:&quot;observable&quot;},val)) : undefined; return this.valueFromJulia[&quot;clicks&quot;]=false}),self)]\n",
       "        \n",
       "    }\n",
       "    self.model = new AppViewModel();\n",
       "    self.valueFromJulia = {};\n",
       "    for (var key in json_data) {\n",
       "        self.valueFromJulia[key] = false;\n",
       "    }\n",
       "    ko.applyBindings(self.model, self.dom);\n",
       "}\n",
       "]},&quot;clicks&quot;:[(function (val){return (val!=this.model[&quot;clicks&quot;]()) ? (this.valueFromJulia[&quot;clicks&quot;]=true, this.model[&quot;clicks&quot;](val)) : undefined})]},&quot;systemjs_options&quot;:null,&quot;observables&quot;:{&quot;clicks&quot;:{&quot;sync&quot;:true,&quot;id&quot;:&quot;ob_47&quot;,&quot;value&quot;:0}}},&quot;children&quot;:[{&quot;props&quot;:{&quot;attributes&quot;:{&quot;data-bind&quot;:&quot;click : function () {this.clicks(this.clicks()+1)}&quot;},&quot;className&quot;:&quot;button is-primary&quot;,&quot;style&quot;:{}},&quot;nodeType&quot;:&quot;DOM&quot;,&quot;type&quot;:&quot;node&quot;,&quot;instanceArgs&quot;:{&quot;namespace&quot;:&quot;html&quot;,&quot;tag&quot;:&quot;button&quot;},&quot;children&quot;:[&quot;Submit&quot;]}]}]}]})</unsafe-script>"
      ],
      "text/plain": [
       "(div { style=Dict(\"display\"=>\"flex\",\"flex-direction\"=>\"column\") }\n",
       "  (h1\n",
       "    \"Hello.\")\n",
       "  (p\n",
       "    \"Welcome to Customer Care. Please leave your details here so we can get back to you.\")\n",
       "  (div { style=Dict{String,Any}(Pair{String,Any}(\"height\", 1.0em),Pair{String,Any}(\"width\", 0.0px)) })\n",
       "  (div { style=Dict(\"display\"=>\"flex\",\"flex-direction\"=>\"row\") }\n",
       "    (div\n",
       "      \"Your name:\")\n",
       "    (div { style=Dict{String,Any}(Pair{String,Any}(\"height\", 0.0px),Pair{String,Any}(\"width\", 1.0em)) })\n",
       "    (div { className=\"field\" }\n",
       "            (input { attributes=Dict{Any,Any}(Pair{Any,Any}(:type, \"text\"),Pair{Any,Any}(Symbol(\"data-bind\"), \"value: value, valueUpdate: 'input', event: {change : function () {this.changes(this.changes()+1)}}\")) placeholder=\"\" className=\"input \" style=Dict{Any,Any}() })))\n",
       "  (div { style=Dict{String,Any}(Pair{String,Any}(\"height\", 1.0em),Pair{String,Any}(\"width\", 0.0px)) })\n",
       "  (div { style=Dict(\"display\"=>\"flex\",\"flex-direction\"=>\"row\") }\n",
       "    (div\n",
       "      \"Your phone number:\")\n",
       "    (div { style=Dict{String,Any}(Pair{String,Any}(\"height\", 0.0px),Pair{String,Any}(\"width\", 1.0em)) })\n",
       "    (div { className=\"field\" }\n",
       "            (input { attributes=Dict{Any,Any}(Pair{Any,Any}(:type, \"text\"),Pair{Any,Any}(Symbol(\"data-bind\"), \"value: value, valueUpdate: 'input', event: {change : function () {this.changes(this.changes()+1)}}\")) placeholder=\"\" className=\"input \" style=Dict{Any,Any}() })))\n",
       "  (div { style=Dict{String,Any}(Pair{String,Any}(\"height\", 1.0em),Pair{String,Any}(\"width\", 0.0px)) })\n",
       "  (div { className=\"field\" }\n",
       "        (button { attributes=Dict{Any,Any}(Pair{Any,Any}(\"data-bind\", \"click : function () {this.clicks(this.clicks()+1)}\")) className=\"button is-primary\" style=Dict{String,Any}() }\n",
       "      \"Submit\")))"
      ]
     },
     "execution_count": 12,
     "metadata": {},
     "output_type": "execute_result"
    }
   ],
   "source": [
    "name_obs = Observable(\"Name\")\n",
    "phone_obs = Observable(\"xxxx\")\n",
    "\n",
    "title = Node(:h1, \"Hello.\")\n",
    "subtitle = Node(:p, \"Welcome to Customer Care. Please leave your details here so we can get back to you.\")\n",
    "\n",
    "name = hbox(Node(:div, \"Your name:\"), hskip(1em), textbox(value = name_obs))\n",
    "phone = hbox(Node(:div, \"Your phone number:\"), hskip(1em), textbox(value = phone_obs))\n",
    "\n",
    "obs = Observable(0)\n",
    "b = button(\"Submit\", value = obs)\n",
    "\n",
    "on(obs) do x\n",
    "    @show name_obs[]\n",
    "    @show phone_obs[]\n",
    "end\n",
    "\n",
    "page = vbox(title,\n",
    "    subtitle,\n",
    "    vskip(1em),\n",
    "    name, \n",
    "    vskip(1em), \n",
    "    phone,\n",
    "    vskip(1em), \n",
    "    b)\n",
    "\n",
    "# body!(Blink.Window(), page)"
   ]
  },
  {
   "cell_type": "markdown",
   "metadata": {
    "slideshow": {
     "slide_type": "subslide"
    }
   },
   "source": [
    "## Text Styling - `Tachyons.jl`\n"
   ]
  },
  {
   "cell_type": "code",
   "execution_count": 5,
   "metadata": {
    "slideshow": {
     "slide_type": "fragment"
    }
   },
   "outputs": [
    {
     "data": {
      "text/html": [
       "<div class='display:none'></div><unsafe-script style='display:none'>\n",
       "WebIO.mount(this.previousSibling,{&quot;props&quot;:{&quot;className&quot;:&quot;f1 b pa5 bg-navy yellow br4 fl&quot;},&quot;nodeType&quot;:&quot;DOM&quot;,&quot;type&quot;:&quot;node&quot;,&quot;instanceArgs&quot;:{&quot;namespace&quot;:&quot;html&quot;,&quot;tag&quot;:&quot;div&quot;},&quot;children&quot;:[{&quot;props&quot;:{},&quot;nodeType&quot;:&quot;Scope&quot;,&quot;type&quot;:&quot;node&quot;,&quot;instanceArgs&quot;:{&quot;imports&quot;:{&quot;data&quot;:[{&quot;name&quot;:null,&quot;type&quot;:&quot;css&quot;,&quot;url&quot;:&quot;/pkg/Tachyons/tachyons.min.css&quot;}],&quot;type&quot;:&quot;async_block&quot;},&quot;id&quot;:&quot;scope-a8c0b250-2501-434c-a249-c032e17c989d&quot;,&quot;handlers&quot;:{},&quot;systemjs_options&quot;:null,&quot;observables&quot;:{}},&quot;children&quot;:[{&quot;props&quot;:{},&quot;nodeType&quot;:&quot;DOM&quot;,&quot;type&quot;:&quot;node&quot;,&quot;instanceArgs&quot;:{&quot;namespace&quot;:&quot;html&quot;,&quot;tag&quot;:&quot;span&quot;},&quot;children&quot;:[]}]},&quot;Julia is awesome!&quot;]})</unsafe-script>"
      ],
      "text/plain": [
       "(div { className=\"f1 b pa5 bg-navy yellow br4 fl\" }\n",
       "    (span)\n",
       "  \"Julia is awesome!\")"
      ]
     },
     "execution_count": 5,
     "metadata": {},
     "output_type": "execute_result"
    }
   ],
   "source": [
    "using WebIO\n",
    "using Tachyons\n",
    "\n",
    "Node(:div, tachyons_css, \"Julia is awesome!\") |> class\"f1 b pa5 bg-navy yellow br4 fl\""
   ]
  },
  {
   "cell_type": "markdown",
   "metadata": {
    "slideshow": {
     "slide_type": "subslide"
    }
   },
   "source": [
    "## Step 2: Packaging and Shipping\n",
    "\n"
   ]
  },
  {
   "cell_type": "markdown",
   "metadata": {
    "slideshow": {
     "slide_type": "fragment"
    }
   },
   "source": [
    "- You have a great Julia package and a great GUI"
   ]
  },
  {
   "cell_type": "markdown",
   "metadata": {
    "slideshow": {
     "slide_type": "fragment"
    }
   },
   "source": [
    "- How do you make it work on another where Julia isn't installed?"
   ]
  },
  {
   "cell_type": "markdown",
   "metadata": {
    "slideshow": {
     "slide_type": "subslide"
    }
   },
   "source": [
    "- Static compilation: `PackageCompiler.jl`\n",
    "- Shipping: `ApplicationBuilder.jl`"
   ]
  },
  {
   "cell_type": "markdown",
   "metadata": {
    "slideshow": {
     "slide_type": "subslide"
    }
   },
   "source": [
    "## Two Scripts \n"
   ]
  },
  {
   "cell_type": "markdown",
   "metadata": {
    "slideshow": {
     "slide_type": "fragment"
    }
   },
   "source": [
    "- the script that defines application behaviour.  \n"
   ]
  },
  {
   "cell_type": "markdown",
   "metadata": {
    "slideshow": {
     "slide_type": "fragment"
    }
   },
   "source": [
    "```julia\n",
    "Base.@ccallable function julia_main(args::Vector{String})::Cint\n",
    "     w = run_ui()\n",
    "     while Blink.active(w)\n",
    "         sleep(0.01)\n",
    "     end\n",
    "     return 0\n",
    " end\n",
    "```\n"
   ]
  },
  {
   "cell_type": "markdown",
   "metadata": {},
   "source": [
    "- the script that specifies dependencies (because they need to be shipped) \n"
   ]
  },
  {
   "cell_type": "markdown",
   "metadata": {
    "slideshow": {
     "slide_type": "fragment"
    }
   },
   "source": [
    "```julia\n",
    "\n",
    "# non-julia files that package depends on\n",
    "resources = [joinpath(Pkg.dir(\"Blink\"), \"src\", \"AtomShell\", \"main.js\"),\n",
    "              joinpath(Pkg.dir(\"Blink\"), \"src\", \"content\", \"main.html\"),\n",
    "              joinpath(Pkg.dir(\"Blink\"), \"res\")]\n",
    "\n",
    "# external libraries that package depends on\n",
    "libraries = [joinpath(Pkg.dir(\"Blink\"), \"deps\", \"Julia.app\")]\n",
    "\n",
    "```"
   ]
  },
  {
   "cell_type": "markdown",
   "metadata": {
    "slideshow": {
     "slide_type": "fragment"
    }
   },
   "source": [
    "```julia\n",
    "BuildApp.build_app_bundle(\"MyApp.jl\", resources = resources,\n",
    "                           libraries = libraries, installer = true) \n",
    "```"
   ]
  },
  {
   "cell_type": "markdown",
   "metadata": {
    "slideshow": {
     "slide_type": "subslide"
    }
   },
   "source": [
    "## How does it work?\n",
    "\n",
    "1. Bundle all the things we need (libaries and resouces)\n",
    "\n",
    "2. You need to change library and resource paths at **build time** to the new directory, so that at **runtime** your app finds what it needs to:\n",
    "    - ` eval(Tachyons, :(path = \"Resources/tachyons.min.css\"))`\n",
    "    \n",
    "3. Change the `pwd` in the application to reflect new paths\n",
    "\n",
    "For more information refer Nathan Daly's talk on Thursday: "
   ]
  },
  {
   "cell_type": "markdown",
   "metadata": {
    "slideshow": {
     "slide_type": "subslide"
    }
   },
   "source": [
    "Demo"
   ]
  },
  {
   "cell_type": "markdown",
   "metadata": {
    "slideshow": {
     "slide_type": "slide"
    }
   },
   "source": [
    "## Contributions to Ecosystem / Roadmap\n",
    "\n",
    "As a result of this project: \n",
    "\n"
   ]
  },
  {
   "cell_type": "markdown",
   "metadata": {
    "slideshow": {
     "slide_type": "fragment"
    }
   },
   "source": [
    "### Contribution  - Linear Algebra:\n",
    "*  `AlgebraicMultigrid.jl` - a system that solves sparse linear systems via algebraic multigrid. Very good for sparse laplacian systems. \n",
    "* Thank you, **Viral Shah** and **Sacha Verweij**.\n",
    "\n"
   ]
  },
  {
   "cell_type": "markdown",
   "metadata": {
    "slideshow": {
     "slide_type": "fragment"
    }
   },
   "source": [
    "### **Future plan** : \n",
    "\n",
    "\n",
    "- Experimentation with more solvers\n",
    "    - Laplacians.jl promises `O(n)` scaling\n",
    "    - Improvements to `AlgebraicMultigrid.jl`: add and test more solvers\n",
    "- Introducing parallelism in the solver. "
   ]
  },
  {
   "cell_type": "markdown",
   "metadata": {
    "slideshow": {
     "slide_type": "subslide"
    }
   },
   "source": [
    "### Contribution - Ecology\n",
    "* **Ecology**: `Circuitscape.jl` - Julia package to apply circuit-theoretic models to measure landscape connectivity.\n",
    "* Thank you, **Brad McRae**.\n",
    "\n",
    "\n",
    "\n"
   ]
  },
  {
   "cell_type": "markdown",
   "metadata": {
    "slideshow": {
     "slide_type": "fragment"
    }
   },
   "source": [
    "### **Future plan** : \n",
    "\n",
    "\n",
    "- Improve parallelism in the software\n",
    "    - Improve load balancing \n",
    "    - Multi-node scaling\n",
    "    - Cloud support with auto-scaling\n",
    "- Add support for special modes on top of Circuitscape (cutting edge) \n",
    "    - Wall-to-Wall and Omnidirectional Circuitscape: Forcing current through the entire landscape to get a better feel for the landscape\n",
    "    "
   ]
  },
  {
   "cell_type": "markdown",
   "metadata": {
    "slideshow": {
     "slide_type": "subslide"
    }
   },
   "source": [
    "\n",
    "<img src=\"files/images/w2w.png\" style=\"width: 900px; height: 500px\"/>\n",
    "\n",
    "**Source**: Anderson, M. G., et al. \"Resilient and connected landscapes for terrestrial conservation.\" The Nature Conservancy, Eastern Conservation Science, Eastern Regional Office Boston, MA (2016): 1-149."
   ]
  },
  {
   "cell_type": "markdown",
   "metadata": {
    "slideshow": {
     "slide_type": "subslide"
    }
   },
   "source": [
    "### Contribution - GUIs \n",
    "* UI: `AssetRegistry.jl` - Serve assets from arbitrary file locations. Important for bundling and shipping. \n",
    "* Thank you, **Shashi Gowda**, **Peitro Vertechi**. \n"
   ]
  },
  {
   "cell_type": "markdown",
   "metadata": {
    "slideshow": {
     "slide_type": "fragment"
    }
   },
   "source": [
    "### Future Plan: \n",
    "* Add more widgets to `WidgetRecipes.jl`\n",
    "* Add even higher level constructs to build UIs \n",
    "    - Aimed at applications and numerical people\n",
    "* Add a UI meta package, change CSS seamlessly, auto-layouts?"
   ]
  },
  {
   "cell_type": "markdown",
   "metadata": {
    "slideshow": {
     "slide_type": "subslide"
    }
   },
   "source": [
    "### Contribution - Package and Shipping\n",
    "\n",
    "* `ApplicationBuilder.jl` - package to bundle and ship Julia code as Mac apps or windows installers.  \n",
    "* Thank you, **Nathan Daly**. (Please go to his talk on Thursday)\n",
    "* Thank you, **Simon Danisch** and **Jameson Nash** for helping with static compilation\n"
   ]
  },
  {
   "cell_type": "markdown",
   "metadata": {
    "slideshow": {
     "slide_type": "fragment"
    }
   },
   "source": [
    "### Future Plan: \n",
    "* Automate many of the processes around packaging binaries \n",
    "    - BinaryBuilder.jl should have a registry of binaries\n",
    "    - The user shouldn't have to specify shipping anything\n",
    "* A uniform approach to `__init__()` "
   ]
  },
  {
   "cell_type": "markdown",
   "metadata": {
    "slideshow": {
     "slide_type": "subslide"
    }
   },
   "source": [
    "## ; tldr \n",
    "\n",
    "- Julia has a **full development stack** from the numerical computing ecosystem all the way up to packaging and shipping\n",
    "- Circuitscape is a widely used tool in landscape ecology and the upgrade to Julia has resulted in significant improvements \n"
   ]
  }
 ],
 "metadata": {
  "celltoolbar": "Slideshow",
  "kernelspec": {
   "display_name": "Julia 0.6.3",
   "language": "julia",
   "name": "julia-0.6"
  },
  "language_info": {
   "file_extension": ".jl",
   "mimetype": "application/julia",
   "name": "julia",
   "version": "0.6.3"
  }
 },
 "nbformat": 4,
 "nbformat_minor": 2
}
